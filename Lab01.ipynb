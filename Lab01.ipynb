{
 "cells": [
  {
   "cell_type": "code",
   "execution_count": 2,
   "metadata": {},
   "outputs": [
    {
     "data": {
      "text/plain": [
       "True"
      ]
     },
     "execution_count": 2,
     "metadata": {},
     "output_type": "execute_result"
    }
   ],
   "source": [
    "'''\n",
    "Verify if a value is integer\n",
    "'''\n",
    "n=2\n",
    "n==int(n)"
   ]
  },
  {
   "cell_type": "code",
   "execution_count": 2,
   "metadata": {},
   "outputs": [
    {
     "data": {
      "text/plain": [
       "True"
      ]
     },
     "execution_count": 2,
     "metadata": {},
     "output_type": "execute_result"
    }
   ],
   "source": [
    "'''\n",
    " Verify if a value is even\n",
    "'''\n",
    "n=4\n",
    "n%2==0"
   ]
  },
  {
   "cell_type": "code",
   "execution_count": 13,
   "metadata": {},
   "outputs": [
    {
     "data": {
      "text/plain": [
       "True"
      ]
     },
     "execution_count": 13,
     "metadata": {},
     "output_type": "execute_result"
    }
   ],
   "source": [
    "'''\n",
    " Insert two numbers. Is the first is bigger than the second?\n",
    " '''\n",
    "n=7\n",
    "m=5\n",
    "n-m>0"
   ]
  },
  {
   "cell_type": "code",
   "execution_count": 12,
   "metadata": {},
   "outputs": [
    {
     "data": {
      "text/plain": [
       "True"
      ]
     },
     "execution_count": 12,
     "metadata": {},
     "output_type": "execute_result"
    }
   ],
   "source": [
    "'''\n",
    " Verify if one value is multiple of another\n",
    " '''\n",
    "n=4\n",
    "m=8\n",
    "m%n==0"
   ]
  },
  {
   "cell_type": "code",
   "execution_count": 1,
   "metadata": {},
   "outputs": [
    {
     "name": "stdout",
     "output_type": "stream",
     "text": [
      "18.0\n"
     ]
    }
   ],
   "source": [
    "'''\n",
    "Calculate the interest earn by an investor that invested a capital of 200 during 3 years with an interest rate of 3%. (simple interest)\n",
    "\n",
    "'''\n",
    "\n",
    "\n",
    "capital=200\n",
    "time=3\n",
    "rate=0.03\n",
    "\n",
    "interest=capital* time* rate\n",
    "\n",
    "print(interest)"
   ]
  },
  {
   "cell_type": "code",
   "execution_count": 13,
   "metadata": {},
   "outputs": [
    {
     "name": "stdout",
     "output_type": "stream",
     "text": [
      "218.5454\n"
     ]
    }
   ],
   "source": [
    "'''\n",
    "Capital that an investor obtained after investing a capital of 200 during 3 years with an interest rate of 3%. (Compound interest)\n",
    "'''\n",
    "capital=200\n",
    "time=3\n",
    "rate=0.03\n",
    "\n",
    "accruedcapital = capital*(1+rate)**time\n",
    "\n",
    "print(accruedcapital)\n"
   ]
  },
  {
   "cell_type": "code",
   "execution_count": 3,
   "metadata": {},
   "outputs": [
    {
     "name": "stdout",
     "output_type": "stream",
     "text": [
      "46.470588235294116\n"
     ]
    }
   ],
   "source": [
    "'''\n",
    "Calculate your BMI (Body Mass Index) \n",
    "'''\n",
    "mass=79\n",
    "height=1.7\n",
    "BMI=mass/height\n",
    "print(BMI)"
   ]
  },
  {
   "cell_type": "code",
   "execution_count": 22,
   "metadata": {},
   "outputs": [
    {
     "name": "stdout",
     "output_type": "stream",
     "text": [
      "1.618033988749895\n",
      "1.618033988749895\n"
     ]
    }
   ],
   "source": [
    "'''\n",
    "Calculate the Golden ratio\n",
    "'''\n",
    "gr=(1+(5**(1/2)))/2\n",
    "print(gr)\n",
    "\n",
    "import math\n",
    "gr=((1+math.sqrt(5))/2)\n",
    "print(gr)"
   ]
  },
  {
   "cell_type": "code",
   "execution_count": 15,
   "metadata": {},
   "outputs": [
    {
     "name": "stdout",
     "output_type": "stream",
     "text": [
      "3139.440301519393\n"
     ]
    }
   ],
   "source": [
    "'''\n",
    ") Calculete the NPV (Net present value) of an investment, considering an initial investment of 10000, the following Cashflows\n",
    "2000,3000, 4000, 4000 and 5000 and a discount rate of 10%.\n",
    "Where:\n",
    "FV = Future cost of the cash inflows, I = Initial Investment k = Discount rate equal to the owner’s cost of capital\n",
    "'''\n",
    "i=10000\n",
    "k=0.10\n",
    "fv1=2000\n",
    "fv2=3000\n",
    "fv3=4000\n",
    "fv4=4000\n",
    "fv5=5000\n",
    "npv=(fv1/(1+k)**1)+(fv2/(1+k)**2)+(fv3/(1+k)**3)+(fv4/(1+k)**4)+(fv5/(1+k)**5)-i\n",
    "print(npv)"
   ]
  },
  {
   "cell_type": "code",
   "execution_count": 1,
   "metadata": {},
   "outputs": [
    {
     "name": "stdout",
     "output_type": "stream",
     "text": [
      "Please enter your name:Ifeanyichukwu Omokwe\n",
      "Please enter your age:29\n",
      "This person was born in 1990\n"
     ]
    }
   ],
   "source": [
    "'''\n",
    " Ask the user to insert name and age. Calculate the the birth. Print a result saying the 'this person was born in'\n",
    "1. Solve the problem without using modules and libraries\n",
    "2. Solve the problem using the date library from module datetime, as fallow:\n",
    "from datetime import date\n",
    "today = date.today()\n",
    "today.year\n",
    "'''\n",
    "name=input(\"Please enter your name:\")\n",
    "age=input(\"Please enter your age:\")\n",
    "birthyear=2019-int(age)\n",
    "print(\"This person was born in \"+ str(birthyear))"
   ]
  },
  {
   "cell_type": "code",
   "execution_count": 2,
   "metadata": {},
   "outputs": [
    {
     "name": "stdout",
     "output_type": "stream",
     "text": [
      "please enter your nameIfeanyichukwu Omokwe\n",
      "please enter your age29\n",
      "This person was born in 1990\n"
     ]
    }
   ],
   "source": [
    "from datetime import date\n",
    "today = date.today()\n",
    "today.year\n",
    "name=input(\"please enter your name\")\n",
    "age=input(\"please enter your age\")\n",
    "birthyear=today.year-int(age)\n",
    "print(\"This person was born in \"+ str(birthyear))"
   ]
  },
  {
   "cell_type": "code",
   "execution_count": 6,
   "metadata": {},
   "outputs": [
    {
     "name": "stdout",
     "output_type": "stream",
     "text": [
      "Please enter your forename:Ifeanyichukwu\n",
      "Please enter your surname:Omokwe\n",
      "Ifeanyichukwu Omokwe\n",
      "IFEANYICHUKWU OMOKWE\n",
      "Ifeanyichukwu Omokwe\n",
      "ifeanyichukwu omokwe\n",
      "Ifeanyichukwu omokwe\n"
     ]
    }
   ],
   "source": [
    "'''\n",
    " Ask the user to insert forenames, surnames. create a new variable (name) with your complete name.\n",
    "Create the follwoing variables:\n",
    "nameBig, where all the characters of the name are capitalized\n",
    "nameTitle, where the only the first character of each name (word) is capitalized\n",
    "nameSmall, where all the characters of the name are lower\n",
    "nameCapitalized, where only the first charater of the first name is capitalized\n",
    "'''\n",
    "forename=input(\"Please enter your forename:\")\n",
    "surname=input(\"Please enter your surname:\")\n",
    "name=str(forename) +\" \"+ str(surname)\n",
    "print(name)\n",
    "\n",
    "nameBig= name.upper()\n",
    "print(nameBig)\n",
    "\n",
    "nameTitle=name.title()\n",
    "print(nameTitle)\n",
    "\n",
    "nameSmall=name.lower()\n",
    "print(nameSmall)\n",
    "\n",
    "nameCapitalized=name.capitalize()\n",
    "print(nameCapitalized)"
   ]
  },
  {
   "cell_type": "code",
   "execution_count": 11,
   "metadata": {},
   "outputs": [
    {
     "data": {
      "text/plain": [
       "-1"
      ]
     },
     "execution_count": 11,
     "metadata": {},
     "output_type": "execute_result"
    }
   ],
   "source": [
    "variable=(\"jhgfgjgggglldalkklhr\")\n",
    "str.find(variable, \"da\")\n",
    "\n",
    "var=(\"sdhklbcgrassdf\")\n",
    "str.find(var, \"da\")"
   ]
  }
 ],
 "metadata": {
  "kernelspec": {
   "display_name": "Python 3",
   "language": "python",
   "name": "python3"
  },
  "language_info": {
   "codemirror_mode": {
    "name": "ipython",
    "version": 3
   },
   "file_extension": ".py",
   "mimetype": "text/x-python",
   "name": "python",
   "nbconvert_exporter": "python",
   "pygments_lexer": "ipython3",
   "version": "3.7.3"
  }
 },
 "nbformat": 4,
 "nbformat_minor": 2
}
