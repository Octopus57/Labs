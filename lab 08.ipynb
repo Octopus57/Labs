{
 "cells": [
  {
   "cell_type": "code",
   "execution_count": 5,
   "metadata": {},
   "outputs": [
    {
     "name": "stdout",
     "output_type": "stream",
     "text": [
      "What is your name?Ifeanyichukwu Omokwe\n"
     ]
    },
    {
     "data": {
      "text/plain": [
       "'Hope your day is going good,  Ifeanyichukwu Omokwe'"
      ]
     },
     "execution_count": 5,
     "metadata": {},
     "output_type": "execute_result"
    }
   ],
   "source": [
    "'''\n",
    "1. Create a function that asks the user his name and says Hello, John Doe\n",
    "'''\n",
    "def ask (question, answer):\n",
    "    msg=\"\"\n",
    "    while msg ==\"\":\n",
    "        msg=input(question)\n",
    "    return str(answer) + \" \" + str(msg)\n",
    "    \n",
    "ask(\"What is your name?\", \"Hope your day is going good, \")   "
   ]
  },
  {
   "cell_type": "code",
   "execution_count": 7,
   "metadata": {},
   "outputs": [
    {
     "name": "stdout",
     "output_type": "stream",
     "text": [
      "what is your problem?Absolutely nothing\n",
      "Yes, ofcourse\n",
      "what is your problem?Sheisse\n",
      "Yes, ofcourse\n",
      "what is your problem?Whaat\n",
      "Yes, ofcourse\n",
      "what is your problem?bye\n",
      "Yes, ofcourse\n"
     ]
    }
   ],
   "source": [
    "'''\n",
    "2. Create a function called chat that ask the user what is his problem and will answer \"yes of course\"\n",
    "'''\n",
    "def chat():\n",
    "    question=\"\"\n",
    "    while question!=\"bye\":\n",
    "        question=input(\"what is your problem?\")\n",
    "        print(\"Yes, ofcourse\")\n",
    "        \n",
    "chat()"
   ]
  },
  {
   "cell_type": "code",
   "execution_count": 12,
   "metadata": {},
   "outputs": [
    {
     "name": "stdout",
     "output_type": "stream",
     "text": [
      "what is your problem: Nothing\n",
      "what is going on here\n",
      "what is your problem: Nothing\n",
      "how are you\n",
      "what is your problem: Im good\n",
      "Good guy\n",
      "what is your problem: Nothing bro\n",
      "Are you ok\n",
      "what is your problem: Im fine\n",
      "Are you happy\n",
      "what is your problem: No\n",
      "how are you\n",
      "what is your problem: Fine\n",
      "What are you having\n",
      "what is your problem: Nothing \n",
      "how are you\n",
      "what is your problem: time out, exit\n",
      "Are you ok\n",
      "what is your problem: exit\n",
      "Are you ok\n"
     ]
    }
   ],
   "source": [
    "'''\n",
    "\n",
    "3. Create a function called chat that ask the user what is his problem and will answer randomly among 6 possible answers\n",
    "'''\n",
    "\n",
    "import random\n",
    "randomanswers=(\"how are you\", \"Are you ok\", \"what is going on here\", \"Are you happy\", \"What are you having\", \"Good guy\")\n",
    "\n",
    "def chat():\n",
    "    problem=\"\"\n",
    "    while problem!= \"exit\":\n",
    "        problem=input(\"what is your problem? \")\n",
    "        print(random.choice(randomanswers))\n",
    "        \n",
    "chat()"
   ]
  },
  {
   "cell_type": "code",
   "execution_count": 14,
   "metadata": {},
   "outputs": [
    {
     "name": "stdout",
     "output_type": "stream",
     "text": [
      "what is your problem? Im fine\n",
      "You did good\n"
     ]
    }
   ],
   "source": [
    "#Alternatively\n",
    "\n",
    "import random\n",
    "randomanswers=[\"say something boy\", \"had lunch\", \"Good guy\", \"I trust you will\", \"Great\", \"You did good\"]\n",
    "\n",
    "def question():\n",
    "    question=input(\"what is your problem? \")\n",
    "    print(randomanswers[random.randint(0,5)])\n",
    "    \n",
    "question()"
   ]
  },
  {
   "cell_type": "code",
   "execution_count": 18,
   "metadata": {},
   "outputs": [
    {
     "name": "stdout",
     "output_type": "stream",
     "text": [
      "What is your name?Ifeanyichukwu Omokwe\n",
      "what is your problem?Nothing\n",
      "Yes, ofcourse\n",
      "what is your problem?bye\n",
      "Yes, ofcourse\n",
      "what is your problem? hmmm\n",
      "You did good\n"
     ]
    }
   ],
   "source": [
    "'''\n",
    "4. Put all together and improve\n",
    "'''\n",
    "def ask (question, answer):\n",
    "    msg=\"\"\n",
    "    while msg ==\"\":\n",
    "        msg=input(question)\n",
    "    return str(answer) + \" \" + str(msg)\n",
    "ask(\"What is your name?\", \"Hope your day is going good, \")  \n",
    "\n",
    "def chat():\n",
    "    question=\"\"\n",
    "    while question!=\"bye\":\n",
    "        question=input(\"what is your problem?\")\n",
    "        print(\"Yes, ofcourse\")\n",
    "        \n",
    "chat()\n",
    "\n",
    "import random\n",
    "randomanswers=[\"say something boy\", \"had lunch\", \"Good guy\", \"I trust you will\", \"Great\", \"You did good\"]\n",
    "\n",
    "def question():\n",
    "    question=input(\"what is your problem? \")\n",
    "    print(randomanswers[random.randint(0,5)])\n",
    "    \n",
    "question()"
   ]
  },
  {
   "cell_type": "raw",
   "metadata": {},
   "source": []
  }
 ],
 "metadata": {
  "kernelspec": {
   "display_name": "Python 3",
   "language": "python",
   "name": "python3"
  },
  "language_info": {
   "codemirror_mode": {
    "name": "ipython",
    "version": 3
   },
   "file_extension": ".py",
   "mimetype": "text/x-python",
   "name": "python",
   "nbconvert_exporter": "python",
   "pygments_lexer": "ipython3",
   "version": "3.7.3"
  }
 },
 "nbformat": 4,
 "nbformat_minor": 2
}
