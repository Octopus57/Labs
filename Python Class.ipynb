{
 "cells": [
  {
   "cell_type": "code",
   "execution_count": 27,
   "metadata": {},
   "outputs": [
    {
     "name": "stdout",
     "output_type": "stream",
     "text": [
      "Ifeanyi\n",
      "Numerous stuffs to acquire, you can come in now!\n"
     ]
    }
   ],
   "source": [
    "class Store():\n",
    "    def __init__(self,):\n",
    "        self.owner= \"Ifeanyi\"\n",
    "             \n",
    "    def exclaim(self):\n",
    "        return \"Numerous stuffs to acquire, you can come in now!\"\n",
    "    \n",
    "class CoffeeShop(Store):\n",
    "    pass\n",
    "\n",
    "starbucks = CoffeeShop()\n",
    "\n",
    "print(starbucks.owner)\n",
    "print(starbucks.exclaim())"
   ]
  },
  {
   "cell_type": "code",
   "execution_count": 33,
   "metadata": {},
   "outputs": [
    {
     "name": "stdout",
     "output_type": "stream",
     "text": [
      "Teaching stuff\n",
      "None\n",
      "F F F\n",
      "None\n",
      "Yum yum yum\n",
      "None\n",
      "Yayy, I am a book writer\n",
      "None\n",
      "Yum yum yum\n",
      "None\n",
      "A, A A\n",
      "None\n"
     ]
    }
   ],
   "source": [
    "#override an inherited method on a sub-class\n",
    "\n",
    "class Teacher():\n",
    "    def teach_class(self):\n",
    "        print(\"Teaching stuff\")\n",
    "    \n",
    "    def grab_lunch(self):\n",
    "        print(\"Yum yum yum\")\n",
    "        \n",
    "    def grade_tests(self):\n",
    "        print(\"F F F\")\n",
    "        \n",
    "class CollegeProfessor(Teacher):\n",
    "    def publish_book(self):\n",
    "        print(\"Yayy, I am a book writer\")\n",
    "        \n",
    "    def grade_tests(self):\n",
    "        print(\"A, A A\")\n",
    "        \n",
    "teacher= Teacher()\n",
    "professor= CollegeProfessor()\n",
    "\n",
    "print(teacher.teach_class())\n",
    "print(teacher.grade_tests())\n",
    "print(teacher.grab_lunch())\n",
    "\n",
    "print(professor.publish_book())\n",
    "print(professor.grab_lunch())\n",
    "print(professor.grade_tests())\n",
    "\n",
    "\n"
   ]
  },
  {
   "cell_type": "code",
   "execution_count": 39,
   "metadata": {},
   "outputs": [
    {
     "name": "stdout",
     "output_type": "stream",
     "text": [
      "flox\n",
      "Golden Retriever\n"
     ]
    }
   ],
   "source": [
    "#Super Function\n",
    "#Super gives a reference to the super class even if the súper class is changed\n",
    "\n",
    "class Animal():\n",
    "    def __init__(self, name):\n",
    "        self.name= name\n",
    "        \n",
    "    def eat(self, food):\n",
    "        return f\"{self.name} is enjoying the {food}\"\n",
    "    \n",
    "class Dog(Animal):\n",
    "    def __init__(self, name, breed):\n",
    "        super().__init__(name)\n",
    "        self.breed=breed\n",
    "\n",
    "flox = Dog(\"flox\", \"Golden Retriever\")\n",
    "print(flox.name)\n",
    "print(flox.breed)"
   ]
  },
  {
   "cell_type": "code",
   "execution_count": 46,
   "metadata": {},
   "outputs": [
    {
     "name": "stdout",
     "output_type": "stream",
     "text": [
      "7\n",
      "3\n",
      "4\n",
      "2\n",
      "69\n"
     ]
    }
   ],
   "source": [
    "#Polymorphism - Transforminng different objects\n",
    "\n",
    "class Person():\n",
    "    def __init__(self, name, height):\n",
    "        self.name= name\n",
    "        self.height= height\n",
    "        \n",
    "    def __len__(self):\n",
    "        return self.height\n",
    "\n",
    "values = [\n",
    "    \"Ifeanyi\",\n",
    "    [1,2,3],\n",
    "    (4,5,6,7),\n",
    "    {\"a\": 1, \"b\": 2}, \n",
    "    Person(name= \"Ifeanyi\", height= 69)\n",
    "]\n",
    "\n",
    "for value in values:\n",
    "    print(len(value))"
   ]
  },
  {
   "cell_type": "code",
   "execution_count": 54,
   "metadata": {},
   "outputs": [
    {
     "name": "stdout",
     "output_type": "stream",
     "text": [
      "0.5\n",
      "0.999\n",
      "Run advanced algorithm to calculate the very best\n",
      "None\n"
     ]
    }
   ],
   "source": [
    "import random\n",
    "\n",
    "class Player():\n",
    "    def __init__(self, games_played, victories):\n",
    "        self.games_played=games_played\n",
    "        self.victories=victories\n",
    "        \n",
    "    @property\n",
    "    def win_ratio(self):\n",
    "        return self.victories/ self.games_played\n",
    "    \n",
    "    \n",
    "class HumanPlayer(Player):\n",
    "    def make_move(self):\n",
    "        print(\"Let player make the decision\")\n",
    "        \n",
    "class ComputerPlayer(Player):\n",
    "    def make_move(self):\n",
    "        print(\"Run advanced algorithm to calculate the very best\")\n",
    "        \n",
    "hp= HumanPlayer(games_played=30, victories=15)\n",
    "cp= ComputerPlayer(games_played= 1000, victories =999)\n",
    "print(hp.win_ratio)\n",
    "print(cp.win_ratio)\n",
    "\n",
    "game_players = [hp, cp]\n",
    "starting_player = random.choice(game_players)\n",
    "print(starting_player.make_move())"
   ]
  },
  {
   "cell_type": "code",
   "execution_count": 63,
   "metadata": {},
   "outputs": [
    {
     "name": "stdout",
     "output_type": "stream",
     "text": [
      "Hello fecs\n",
      "Hello fecs\n",
      "<bound method Nonsense.__some_method of <__main__.Nonsense object at 0x0000024DA9AF9518>>\n",
      "<bound method Nonsense.__some_method of <__main__.SpecialNonsense object at 0x0000024DA9AF9588>>\n"
     ]
    }
   ],
   "source": [
    "#Name Mangling for privacy\n",
    "\n",
    "class Nonsense():\n",
    "    def __init__(self):\n",
    "        self.__some_attribute = \"Hello fecs\"\n",
    "        \n",
    "    def __some_method(self):\n",
    "        print(\"Sorry this is from a different method\")\n",
    "        \n",
    "class SpecialNonsense(Nonsense):\n",
    "    pass\n",
    "\n",
    "n = Nonsense()\n",
    "sn = SpecialNonsense()\n",
    "\n",
    "print(n._Nonsense__some_attribute)\n",
    "print(sn._Nonsense__some_attribute)\n",
    "\n",
    "print(n._Nonsense__some_method)\n",
    "print(sn._Nonsense__some_method)"
   ]
  },
  {
   "cell_type": "code",
   "execution_count": 70,
   "metadata": {},
   "outputs": [
    {
     "name": "stdout",
     "output_type": "stream",
     "text": [
      "Putting on the pounds\n",
      "None\n"
     ]
    },
    {
     "ename": "TypeError",
     "evalue": "thaw() missing 1 required positional argument: 'minutes'",
     "output_type": "error",
     "traceback": [
      "\u001b[1;31m---------------------------------------------------------------------------\u001b[0m",
      "\u001b[1;31mTypeError\u001b[0m                                 Traceback (most recent call last)",
      "\u001b[1;32m<ipython-input-70-e7dcf1b2d4f2>\u001b[0m in \u001b[0;36m<module>\u001b[1;34m\u001b[0m\n\u001b[0;32m     20\u001b[0m \u001b[0mic\u001b[0m \u001b[1;33m=\u001b[0m \u001b[0mIceCream\u001b[0m\u001b[1;33m\u001b[0m\u001b[1;33m\u001b[0m\u001b[0m\n\u001b[0;32m     21\u001b[0m \u001b[0mprint\u001b[0m\u001b[1;33m(\u001b[0m\u001b[0mic\u001b[0m\u001b[1;33m.\u001b[0m\u001b[0madd_weight\u001b[0m\u001b[1;33m(\u001b[0m\u001b[1;36m2\u001b[0m\u001b[1;33m)\u001b[0m\u001b[1;33m)\u001b[0m\u001b[1;33m\u001b[0m\u001b[1;33m\u001b[0m\u001b[0m\n\u001b[1;32m---> 22\u001b[1;33m \u001b[0mprint\u001b[0m\u001b[1;33m(\u001b[0m\u001b[0mic\u001b[0m\u001b[1;33m.\u001b[0m\u001b[0mthaw\u001b[0m\u001b[1;33m(\u001b[0m\u001b[1;36m5\u001b[0m\u001b[1;33m)\u001b[0m\u001b[1;33m)\u001b[0m\u001b[1;33m\u001b[0m\u001b[1;33m\u001b[0m\u001b[0m\n\u001b[0m\u001b[0;32m     23\u001b[0m \u001b[0mprint\u001b[0m\u001b[1;33m(\u001b[0m\u001b[0mic\u001b[0m\u001b[1;33m.\u001b[0m\u001b[0mstore\u001b[0m\u001b[1;33m)\u001b[0m\u001b[1;33m\u001b[0m\u001b[1;33m\u001b[0m\u001b[0m\n\u001b[0;32m     24\u001b[0m \u001b[1;33m\u001b[0m\u001b[0m\n",
      "\u001b[1;31mTypeError\u001b[0m: thaw() missing 1 required positional argument: 'minutes'"
     ]
    }
   ],
   "source": [
    "#multiple inheritance\n",
    "\n",
    "class FrozenFood():\n",
    "    def thaw(self, minutes):\n",
    "        print(f\"Thawing for {minutes} minutes\")\n",
    "        \n",
    "    def store(self):\n",
    "        print(\"Everything is going great\")\n",
    "        \n",
    "class desert():\n",
    "    def add_weight(self):\n",
    "        print(\"Putting on the pounds\")\n",
    "        \n",
    "    def store(self):\n",
    "        print(\"the code is perfect\")\n",
    "        \n",
    "class IceCream(FrozenFood, desert):\n",
    "    pass\n",
    "\n",
    "ic = IceCream\n",
    "print(ic.add_weight(2))\n",
    "print(ic.thaw(5))\n",
    "print(ic.store)\n",
    "\n",
    "print(IceCream.mro())"
   ]
  },
  {
   "cell_type": "code",
   "execution_count": 75,
   "metadata": {},
   "outputs": [
    {
     "name": "stdout",
     "output_type": "stream",
     "text": [
      "Make a reservation for 2 as made\n",
      "[<class '__main__.Barandgrill'>, <class '__main__.Steakhouse'>, <class '__main__.Restaurant'>, <class '__main__.Bar'>, <class 'object'>]\n"
     ]
    }
   ],
   "source": [
    "class Restaurant():\n",
    "    def make_reservation(self, party_size):\n",
    "        print(f\"Make a reservation for {party_size} as made\")\n",
    "    \n",
    "class Steakhouse(Restaurant):\n",
    "        pass\n",
    "    \n",
    "class Bar:\n",
    "    def make_reservation(self, party_size):\n",
    "        print(f\"Book a lounge for {party_size}\")\n",
    "              \n",
    "class Barandgrill(Steakhouse, Bar):\n",
    "    pass\n",
    "              \n",
    "bag = Barandgrill()\n",
    "bag.make_reservation(2)\n",
    "print(Barandgrill.mro())\n",
    "\n",
    "#python prioritises depth_for_search when handling inheritance\n",
    "    "
   ]
  },
  {
   "cell_type": "code",
   "execution_count": 77,
   "metadata": {},
   "outputs": [
    {
     "name": "stdout",
     "output_type": "stream",
     "text": [
      "I love writing scripts\n",
      "[<class '__main__.jack_of_all_trades'>, <class '__main__.Director'>, <class '__main__.Screenwriter'>, <class '__main__.FilmMaker'>, <class 'object'>]\n"
     ]
    }
   ],
   "source": [
    "#Diamond_shaped_inheritance\n",
    "\n",
    "class FilmMaker():\n",
    "    def give_interview(self):\n",
    "        print(\"I love making movies\")\n",
    "        \n",
    "class Director(FilmMaker):\n",
    "    pass\n",
    "\n",
    "class Screenwriter(FilmMaker):\n",
    "    def give_interview(self):\n",
    "        print(\"I love writing scripts\")\n",
    "        \n",
    "class jack_of_all_trades(Director, Screenwriter):\n",
    "    pass\n",
    "\n",
    "Stallone= jack_of_all_trades()\n",
    "Stallone.give_interview()\n",
    "\n",
    "print(jack_of_all_trades.mro())\n",
    "\n",
    "#if there all more occurences of the same super class, python removes the first one. This is done for efficiency sake."
   ]
  },
  {
   "cell_type": "code",
   "execution_count": 97,
   "metadata": {},
   "outputs": [
    {
     "ename": "SyntaxError",
     "evalue": "invalid syntax (<ipython-input-97-b85f98c76039>, line 31)",
     "output_type": "error",
     "traceback": [
      "\u001b[1;36m  File \u001b[1;32m\"<ipython-input-97-b85f98c76039>\"\u001b[1;36m, line \u001b[1;32m31\u001b[0m\n\u001b[1;33m    print(issubclass Person, (Superhero))\u001b[0m\n\u001b[1;37m                          ^\u001b[0m\n\u001b[1;31mSyntaxError\u001b[0m\u001b[1;31m:\u001b[0m invalid syntax\n"
     ]
    }
   ],
   "source": [
    "#isinstance_and_issubclass\n",
    "\n",
    "print(type({\"a\": 1}))\n",
    "\n",
    "print(isinstance(1, int))\n",
    "\n",
    "print(isinstance(1.0, float))\n",
    "print(isinstance([], list))\n",
    "print(isinstance([], dict))\n",
    "print(isinstance(1, object))\n",
    "print(isinstance(str, object))\n",
    "print(isinstance(3.7, object))\n",
    "print(isinstance([], (list, dict, int)))\n",
    "\n",
    "class Person():\n",
    "    pass\n",
    "\n",
    "class Superhero(Person):\n",
    "    pass\n",
    "\n",
    "Ifeanyi = Person()\n",
    "Hulk = Superhero\n",
    "\n",
    "print(isinstance(Hulk, Superhero))\n",
    "print(isinstance(Hulk, Person))\n",
    "print(isinstance(Ifeanyi, Person))\n",
    "print(isinstance(Ifeanyi, Superhero))\n",
    "\n",
    "\n",
    "print(issubclass(Superhero, Person))\n",
    "print(issubclass Person, Superhero))\n"
   ]
  },
  {
   "cell_type": "code",
   "execution_count": 3,
   "metadata": {},
   "outputs": [
    {
     "name": "stdout",
     "output_type": "stream",
     "text": [
      "Alder\n",
      "Mahohany\n"
     ]
    }
   ],
   "source": [
    "class Guitar():\n",
    "    def __init__(self, wood):\n",
    "        self.wood = wood\n",
    "              \n",
    "acoustic = Guitar(\"Alder\")\n",
    "electric = Guitar(\"Mahohany\")\n",
    "\n",
    "print(acoustic.wood)\n",
    "print(electric.wood)          \n",
    "              \n",
    "             \n"
   ]
  },
  {
   "cell_type": "code",
   "execution_count": 11,
   "metadata": {},
   "outputs": [
    {
     "name": "stdout",
     "output_type": "stream",
     "text": [
      "Row like a Lion\n",
      "Row like a Lion\n",
      "I am Squirtle and I am a Water Pokemon\n",
      "I am Charmander and I am a Fire Pokemon\n",
      "100\n",
      "80\n"
     ]
    }
   ],
   "source": [
    "#attributes and methods\n",
    "\n",
    "#Instance methods - A fucntion that belongs to an object ie upper, lower, clear, replace\n",
    "\n",
    "class Pokemon():\n",
    "    def __init__(self, name, specialty, health =100):\n",
    "        self.name = name\n",
    "        self.specialty = specialty\n",
    "        self.health = health\n",
    "        \n",
    "    def roar(self):\n",
    "        print(\"Row like a Lion\")\n",
    "        \n",
    "    def describe(self):\n",
    "        print(f\"I am {self.name} and I am a {self.specialty} Pokemon\")\n",
    "        \n",
    "    def take_damage(self, amount):\n",
    "        #self.health=self.health-amount \n",
    "        self.health-=amount\n",
    "        \n",
    "        \n",
    "Squirtle = Pokemon(\"Squirtle\", \"Water\")\n",
    "Charmander = Pokemon(\"Charmander\", specialty = \"Fire\", health = 110)\n",
    "Squirtle.roar()\n",
    "Charmander.roar()\n",
    "Squirtle.describe()\n",
    "Charmander.describe()\n",
    "\n",
    "print(Squirtle.health)\n",
    "Squirtle.take_damage(20)\n",
    "print(Squirtle.health)"
   ]
  },
  {
   "cell_type": "code",
   "execution_count": 24,
   "metadata": {},
   "outputs": [
    {
     "name": "stdout",
     "output_type": "stream",
     "text": [
      "Apple\n",
      "10.0\n",
      "Reaching out to the server for the next version\n",
      "None\n"
     ]
    },
    {
     "data": {
      "text/plain": [
       "11.0"
      ]
     },
     "execution_count": 24,
     "metadata": {},
     "output_type": "execute_result"
    }
   ],
   "source": [
    "#protected attributes - Accessing hidden data\n",
    "\n",
    "class smartphone():\n",
    "    def __init__(self):\n",
    "        self._company = \"Apple\"   #add an _\n",
    "        self._firmware = 10.0     #add an _\n",
    "        \n",
    "    def get_os_version(self):\n",
    "        return self._firmware\n",
    "    \n",
    "    def update_firmware(self):\n",
    "        print(\"Reaching out to the server for the next version\")\n",
    "        self._firmware += 1\n",
    "        \n",
    "iphone = smartphone()\n",
    "print(iphone._company)            #add an _\n",
    "print(iphone._firmware)           #add an _\n",
    "\n",
    "print(iphone.update_firmware())\n",
    "iphone._firmware\n",
    "\n",
    "\n"
   ]
  },
  {
   "cell_type": "code",
   "execution_count": 30,
   "metadata": {},
   "outputs": [
    {
     "name": "stdout",
     "output_type": "stream",
     "text": [
      "5.0\n",
      "3.0\n",
      "3.0\n"
     ]
    }
   ],
   "source": [
    "#defining properties\n",
    "#Getters and Setters - Instance method that get or reads and sets or writes a value\n",
    "\n",
    "class Height():\n",
    "    def __init__(self, feet):\n",
    "        self._inches = feet * 12\n",
    "        \n",
    "    def _get_feet(self):\n",
    "        return self._inches / 12\n",
    "    \n",
    "    def _set_feet(self, feet):\n",
    "        if feet>=0:\n",
    "            self._inches = feet * 12\n",
    "            \n",
    "    feet =  property(_get_feet, _set_feet)  #property gives the appearance of attributes\n",
    "    \n",
    "my_height = Height(5)\n",
    "print(my_height.feet)\n",
    "\n",
    "my_height.feet = 3\n",
    "print(my_height.feet)\n",
    "\n",
    "my_height.feet = -11\n",
    "print(my_height.feet)\n",
    "        \n",
    "\n"
   ]
  },
  {
   "cell_type": "code",
   "execution_count": 36,
   "metadata": {},
   "outputs": [
    {
     "name": "stdout",
     "output_type": "stream",
     "text": [
      "100000.0\n",
      "100000.0\n"
     ]
    }
   ],
   "source": [
    "#defining properties with decorators\n",
    "#decorators are objects that accepts a function as arguments, engances it and returns it.\n",
    "\n",
    "class currency():\n",
    "    def __init__(self, dollars):\n",
    "        self._cents = dollars * 100\n",
    "        \n",
    "    @property    \n",
    "    def dollars(self):\n",
    "        return self._cents / 100\n",
    "    \n",
    "    @dollars.setter\n",
    "    def dollars(self, dollars):\n",
    "        if dollars>=0:\n",
    "            self._cents = dollars * 100\n",
    "    \n",
    "bank_account = currency(50000)\n",
    "bank_account.dollars\n",
    "\n",
    "bank_account.dollars = 100000\n",
    "print(bank_account.dollars)\n",
    "\n",
    "bank_account.dollars =-3000\n",
    "print(bank_account.dollars)\n",
    "    "
   ]
  },
  {
   "cell_type": "code",
   "execution_count": 39,
   "metadata": {},
   "outputs": [
    {
     "name": "stdout",
     "output_type": "stream",
     "text": [
      "Extra Large\n",
      "['Chicken', 'Onions', 'BBQ Sauce']\n",
      "20.0\n",
      "BBQ Chicken\n",
      "others\n",
      "others\n"
     ]
    }
   ],
   "source": [
    "#getattr and setattr - used when we do not know the attribute we are to use in advance\n",
    "\n",
    "stats = {\n",
    "    \"name\": \"BBQ Chicken\",\n",
    "    \"price\": 20.00,\n",
    "    \"size\": \"Extra Large\",\n",
    "    \"ingredients\": [\"Chicken\", \"Onions\", \"BBQ Sauce\"]\n",
    "}\n",
    "\n",
    "class Pizza():\n",
    "    def __init__(self, stats):\n",
    "        for key, value in stats.items():\n",
    "            setattr(self, key, value)\n",
    "            \n",
    "salami = Pizza(stats)\n",
    "\n",
    "print(salami.size)\n",
    "print(salami.ingredients)\n",
    "\n",
    "for i in [\"price\", \"name\", \"diameter\", \"discounted\"]:\n",
    "    print(getattr(salami, i, \"others\"))"
   ]
  },
  {
   "cell_type": "code",
   "execution_count": 41,
   "metadata": {},
   "outputs": [
    {
     "ename": "AttributeError",
     "evalue": "'Pizza' object has no attribute 'size'",
     "output_type": "error",
     "traceback": [
      "\u001b[1;31m---------------------------------------------------------------------------\u001b[0m",
      "\u001b[1;31mAttributeError\u001b[0m                            Traceback (most recent call last)",
      "\u001b[1;32m<ipython-input-41-2814b4fccf1b>\u001b[0m in \u001b[0;36m<module>\u001b[1;34m\u001b[0m\n\u001b[0;32m     22\u001b[0m         \u001b[0mdelattr\u001b[0m\u001b[1;33m(\u001b[0m\u001b[0msalami\u001b[0m\u001b[1;33m,\u001b[0m \u001b[0mstat\u001b[0m\u001b[1;33m)\u001b[0m\u001b[1;33m\u001b[0m\u001b[1;33m\u001b[0m\u001b[0m\n\u001b[0;32m     23\u001b[0m \u001b[1;33m\u001b[0m\u001b[0m\n\u001b[1;32m---> 24\u001b[1;33m \u001b[0mprint\u001b[0m\u001b[1;33m(\u001b[0m\u001b[0msalami\u001b[0m\u001b[1;33m.\u001b[0m\u001b[0msize\u001b[0m\u001b[1;33m)\u001b[0m\u001b[1;33m\u001b[0m\u001b[1;33m\u001b[0m\u001b[0m\n\u001b[0m\u001b[0;32m     25\u001b[0m \u001b[1;33m\u001b[0m\u001b[0m\n",
      "\u001b[1;31mAttributeError\u001b[0m: 'Pizza' object has no attribute 'size'"
     ]
    }
   ],
   "source": [
    "#hasattr and delattr\n",
    "\n",
    "#same example as above\n",
    "\n",
    "stats = {\n",
    "    \"name\": \"BBQ Chicken\",\n",
    "    \"price\": 20.00,\n",
    "    \"size\": \"Extra Large\",\n",
    "    \"ingredients\": [\"Chicken\", \"Onions\", \"BBQ Sauce\"]\n",
    "}\n",
    "\n",
    "class Pizza():\n",
    "    def __init__(self, stats):\n",
    "        for key, value in stats.items():\n",
    "            setattr(self, key, value)\n",
    "            \n",
    "salami = Pizza(stats)\n",
    "\n",
    "stats_to_delete = [\"size\", \"diameter\", \"spicy\", \"ingredients\"]\n",
    "for stat in stats_to_delete:\n",
    "    if hasattr(salami, stat):\n",
    "        delattr(salami, stat)\n",
    "                   \n",
    "print(salami.size)\n",
    "                   "
   ]
  },
  {
   "cell_type": "code",
   "execution_count": 48,
   "metadata": {},
   "outputs": [
    {
     "name": "stdout",
     "output_type": "stream",
     "text": [
      "8\n",
      "2\n",
      "6\n",
      "12\n"
     ]
    }
   ],
   "source": [
    "#class method\n",
    "\n",
    "class sushi():\n",
    "    def __init__(self, salmon, tuna, shrimp, squid):\n",
    "        self.salmon = salmon\n",
    "        self.tuna = tuna\n",
    "        self.shrimp = shrimp\n",
    "        self.squid = squid\n",
    "        \n",
    "    @classmethod\n",
    "    def lunch(cls):\n",
    "        return cls(salmon = 2, tuna= 3, shrimp = 6, squid = 1)\n",
    "    \n",
    "    @classmethod\n",
    "    def sea_food(cls):\n",
    "        return cls(salmon = 3, tuna = 1, shrimp = 12, squid = 0)\n",
    "        \n",
    "ifeanyi = sushi(salmon = 10, tuna = 8, shrimp = 13, squid = 5)\n",
    "print(ifeanyi.tuna)\n",
    "\n",
    "meal = sushi.lunch()\n",
    "print(meal.salmon)\n",
    "print(meal.shrimp)\n",
    "\n",
    "shrimp_lover = sushi.sea_food()\n",
    "print(shrimp_lover.shrimp)\n",
    "\n"
   ]
  },
  {
   "cell_type": "code",
   "execution_count": 56,
   "metadata": {},
   "outputs": [
    {
     "name": "stdout",
     "output_type": "stream",
     "text": [
      "0\n",
      "1\n",
      "Number of counter objects created: 3\n"
     ]
    },
    {
     "ename": "TypeError",
     "evalue": "cannot unpack non-iterable NoneType object",
     "output_type": "error",
     "traceback": [
      "\u001b[1;31m---------------------------------------------------------------------------\u001b[0m",
      "\u001b[1;31mTypeError\u001b[0m                                 Traceback (most recent call last)",
      "\u001b[1;32m<ipython-input-56-8488994efd20>\u001b[0m in \u001b[0;36m<module>\u001b[1;34m\u001b[0m\n\u001b[0;32m     16\u001b[0m \u001b[0mprint\u001b[0m\u001b[1;33m(\u001b[0m\u001b[0mcounter\u001b[0m\u001b[1;33m.\u001b[0m\u001b[0mcount\u001b[0m\u001b[1;33m)\u001b[0m\u001b[1;33m\u001b[0m\u001b[1;33m\u001b[0m\u001b[0m\n\u001b[0;32m     17\u001b[0m \u001b[1;33m\u001b[0m\u001b[0m\n\u001b[1;32m---> 18\u001b[1;33m \u001b[0mc2\u001b[0m\u001b[1;33m,\u001b[0m \u001b[0mc3\u001b[0m \u001b[1;33m=\u001b[0m \u001b[0mcounter\u001b[0m\u001b[1;33m.\u001b[0m\u001b[0mcreate_two\u001b[0m\u001b[1;33m(\u001b[0m\u001b[1;33m)\u001b[0m\u001b[1;33m\u001b[0m\u001b[1;33m\u001b[0m\u001b[0m\n\u001b[0m\u001b[0;32m     19\u001b[0m \u001b[0mprint\u001b[0m\u001b[1;33m(\u001b[0m\u001b[0mcounter\u001b[0m\u001b[1;33m.\u001b[0m\u001b[0mcount\u001b[0m\u001b[1;33m)\u001b[0m\u001b[1;33m\u001b[0m\u001b[1;33m\u001b[0m\u001b[0m\n\u001b[0;32m     20\u001b[0m \u001b[1;33m\u001b[0m\u001b[0m\n",
      "\u001b[1;31mTypeError\u001b[0m: cannot unpack non-iterable NoneType object"
     ]
    }
   ],
   "source": [
    "#class attributes\n",
    "\n",
    "class counter():\n",
    "    count = 0\n",
    "    \n",
    "    def __init__(self):\n",
    "        counter.count += 1\n",
    "        \n",
    "    @classmethod\n",
    "    def create_two(cls):\n",
    "        two_counters = [cls(), cls()]\n",
    "        print(f\"Number of counter objects created: {cls.count}\")\n",
    "    \n",
    "print(counter.count)\n",
    "c1 = counter()\n",
    "print(counter.count)\n",
    "\n",
    "c2, c3 = counter.create_two()\n",
    "print(counter.count)\n",
    "\n"
   ]
  },
  {
   "cell_type": "code",
   "execution_count": 60,
   "metadata": {},
   "outputs": [
    {
     "name": "stdout",
     "output_type": "stream",
     "text": [
      "class of attributes\n",
      "instance attribute\n",
      "class of attributes\n",
      "class of attributes\n"
     ]
    }
   ],
   "source": [
    "#look_up order\n",
    "\n",
    "class example():\n",
    "    data = \"class of attributes\"\n",
    "    \n",
    "a1 = example()\n",
    "a2 = example()\n",
    "print(a1.data)\n",
    "\n",
    "a1.data = \"instance attribute\"\n",
    "print(a1.data)\n",
    "print(a2.data)\n",
    "\n",
    "del a1.data\n",
    "print(a1.data)"
   ]
  },
  {
   "cell_type": "code",
   "execution_count": 76,
   "metadata": {},
   "outputs": [
    {
     "name": "stdout",
     "output_type": "stream",
     "text": [
      "<bound method weather_forecast.in_celcius of <__main__.weather_forecast object at 0x0000027071696668>>\n"
     ]
    },
    {
     "data": {
      "text/plain": [
       "18.33"
      ]
     },
     "execution_count": 76,
     "metadata": {},
     "output_type": "execute_result"
    }
   ],
   "source": [
    "#static methods\n",
    "#Static methods doesnt rely on class or instance\n",
    "\n",
    "class weather_forecast():\n",
    "    def __init__(self, temperatures):\n",
    "        self.temperatures = temperatures\n",
    "        \n",
    "    @staticmethod  #doesnt need self, as it doesnt receive the instance nor the class (see below)\n",
    "    def convert_fahr_cel(fahr):\n",
    "        calculation =(5/9) * (fahr - 32)\n",
    "        return round(calculation, 2)        \n",
    "        \n",
    "        \n",
    "    def in_celcius(self):\n",
    "        return [self.convert_fahr_cel(temp) for temp in self.temperatures]\n",
    "        \n",
    "        \n",
    "degrees = weather_forecast([10, 80, 38, 26, 19, 12])\n",
    "\n",
    "print(degrees.in_celcius)\n",
    "weather_forecast.convert_fahr_cel(65)\n"
   ]
  },
  {
   "cell_type": "code",
   "execution_count": null,
   "metadata": {},
   "outputs": [],
   "source": []
  }
 ],
 "metadata": {
  "kernelspec": {
   "display_name": "Python 3",
   "language": "python",
   "name": "python3"
  },
  "language_info": {
   "codemirror_mode": {
    "name": "ipython",
    "version": 3
   },
   "file_extension": ".py",
   "mimetype": "text/x-python",
   "name": "python",
   "nbconvert_exporter": "python",
   "pygments_lexer": "ipython3",
   "version": "3.7.3"
  }
 },
 "nbformat": 4,
 "nbformat_minor": 2
}
