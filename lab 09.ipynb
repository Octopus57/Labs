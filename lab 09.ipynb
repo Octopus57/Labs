{
 "cells": [
  {
   "cell_type": "code",
   "execution_count": null,
   "metadata": {},
   "outputs": [],
   "source": [
    "Suppose you have the follwoing payoff matriz of a prisoner's dilemna\n",
    "\n",
    "Player 0 may play 0 or 1 and player 1 may play 0 or 1. 0 is cooperate (our peace), 1 is not cooperate (war).\n"
   ]
  },
  {
   "cell_type": "code",
   "execution_count": 37,
   "metadata": {},
   "outputs": [
    {
     "name": "stdout",
     "output_type": "stream",
     "text": [
      "(2, 2)\n"
     ]
    }
   ],
   "source": [
    "'''\n",
    "1. Create a function that receives results from each one of the player and gives as results a tuple with the results.\n",
    "'''\n",
    "payoffs=(((2,2),(0,3)),((3,0),(1,1)))\n",
    "def prisonersdilemma(p1,p2):\n",
    "    if p1==0:\n",
    "        if p2==0:\n",
    "            print(payoffs[0][0])\n",
    "        else:\n",
    "            print(payoffs[0][1])\n",
    "    else:\n",
    "        if p2==0:\n",
    "            print(payoffs[1][0])\n",
    "        else:\n",
    "            print(payoffs[1][1])\n",
    "                \n",
    "prisonersdilemma(p1=0,p2=0)\n",
    "    \n"
   ]
  },
  {
   "cell_type": "code",
   "execution_count": 38,
   "metadata": {},
   "outputs": [],
   "source": [
    "#Alternatively\n",
    "payofflist= [[(2,2),(0,3)],[(3,0),(1,1)]]\n",
    "\n",
    "def payoff(player1,player2):\n",
    "    p= payofflist[player1] [player2]\n",
    "    return p\n",
    "    "
   ]
  },
  {
   "cell_type": "code",
   "execution_count": 39,
   "metadata": {},
   "outputs": [
    {
     "data": {
      "text/plain": [
       "(0, 3)"
      ]
     },
     "execution_count": 39,
     "metadata": {},
     "output_type": "execute_result"
    }
   ],
   "source": [
    "payoff(0,1)\n"
   ]
  },
  {
   "cell_type": "code",
   "execution_count": 40,
   "metadata": {},
   "outputs": [
    {
     "data": {
      "text/plain": [
       "(2, 2)"
      ]
     },
     "execution_count": 40,
     "metadata": {},
     "output_type": "execute_result"
    }
   ],
   "source": [
    "payoff(0,0)"
   ]
  },
  {
   "cell_type": "code",
   "execution_count": 41,
   "metadata": {},
   "outputs": [
    {
     "data": {
      "text/plain": [
       "(1, 1)"
      ]
     },
     "execution_count": 41,
     "metadata": {},
     "output_type": "execute_result"
    }
   ],
   "source": [
    "payoff(1,1)"
   ]
  },
  {
   "cell_type": "code",
   "execution_count": 42,
   "metadata": {},
   "outputs": [
    {
     "data": {
      "text/plain": [
       "(3, 0)"
      ]
     },
     "execution_count": 42,
     "metadata": {},
     "output_type": "execute_result"
    }
   ],
   "source": [
    "payoff(1,0)"
   ]
  },
  {
   "cell_type": "code",
   "execution_count": 43,
   "metadata": {},
   "outputs": [],
   "source": [
    "'''\n",
    "2. Player 0 is the user that chooses between 0 a 1. Player 1 is a computer. Result is randomly generated.\n",
    "'''\n",
    "\n",
    "import random\n",
    "def payoffcmp(user):\n",
    "    computer=random.randint(0,1)\n",
    "    result= payofflist[user][computer]\n",
    "    return result"
   ]
  },
  {
   "cell_type": "code",
   "execution_count": 44,
   "metadata": {},
   "outputs": [
    {
     "data": {
      "text/plain": [
       "(0, 3)"
      ]
     },
     "execution_count": 44,
     "metadata": {},
     "output_type": "execute_result"
    }
   ],
   "source": [
    "payoffcmp(0)"
   ]
  },
  {
   "cell_type": "code",
   "execution_count": 45,
   "metadata": {},
   "outputs": [
    {
     "name": "stdout",
     "output_type": "stream",
     "text": [
      "00\n"
     ]
    },
    {
     "data": {
      "text/plain": [
       "(2, 2)"
      ]
     },
     "execution_count": 45,
     "metadata": {},
     "output_type": "execute_result"
    }
   ],
   "source": [
    "#Alternatively\n",
    "\n",
    "PC= random.randint(0,1)\n",
    "user= int(input(\"0\" or \"1?\"))\n",
    "payoff(PC, user)"
   ]
  },
  {
   "cell_type": "code",
   "execution_count": 48,
   "metadata": {},
   "outputs": [
    {
     "name": "stdout",
     "output_type": "stream",
     "text": [
      "01\n",
      "(1, 1)\n",
      "1\n",
      "01\n",
      "(1, 1)\n",
      "2\n",
      "01\n",
      "(0, 3)\n",
      "2\n",
      "01\n",
      "(0, 3)\n",
      "2\n",
      "01\n",
      "(1, 1)\n",
      "3\n",
      "00\n",
      "(2, 2)\n",
      "5\n",
      "00\n",
      "(3, 0)\n",
      "8\n",
      "00\n",
      "(2, 2)\n",
      "10\n",
      "01\n",
      "(0, 3)\n",
      "10\n",
      "01\n",
      "(1, 1)\n",
      "11\n"
     ]
    }
   ],
   "source": [
    "'''\n",
    "3. Calculate the accumulated value resulting from an iterative game (10 iterations)\n",
    "'''\n",
    "import random\n",
    "total=0\n",
    "for i in range(1,11):\n",
    "    \n",
    "    players=random.randint(0,1)\n",
    "    users=int(input(\"0\" or \"1?\"))\n",
    "    print(payoff(players, users))\n",
    "    result= payoff(players,users)\n",
    "    total=total + result[0]\n",
    "    print(total)\n",
    "    "
   ]
  }
 ],
 "metadata": {
  "kernelspec": {
   "display_name": "Python 3",
   "language": "python",
   "name": "python3"
  },
  "language_info": {
   "codemirror_mode": {
    "name": "ipython",
    "version": 3
   },
   "file_extension": ".py",
   "mimetype": "text/x-python",
   "name": "python",
   "nbconvert_exporter": "python",
   "pygments_lexer": "ipython3",
   "version": "3.7.3"
  }
 },
 "nbformat": 4,
 "nbformat_minor": 2
}
