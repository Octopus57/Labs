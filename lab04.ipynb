{
 "cells": [
  {
   "cell_type": "code",
   "execution_count": 76,
   "metadata": {},
   "outputs": [
    {
     "name": "stdout",
     "output_type": "stream",
     "text": [
      "['inicialvalueSales', 'anual growth rate', 'number of years']\n",
      "[1000.0, 1100.0, 1210.0000000000002, 1331.0000000000005, 1464.1000000000004, 1610.5100000000004]\n"
     ]
    }
   ],
   "source": [
    "'''\n",
    "1) Create a list of volume of sales considering the following assumptions:\n",
    "inicial valueSales =1000\n",
    "anual growth rate = 10%\n",
    "number of years = 6\n",
    "'''\n",
    "\n",
    "\n",
    "volumeofsalesList = []\n",
    "volumeofsalesList. append(\"inicialvalueSales\")\n",
    "volumeofsalesList. append(\"anual growth rate\")\n",
    "volumeofsalesList. append(\"number of years\")\n",
    "print(volumeofsalesList)\n",
    "\n",
    "volumeofsalesList[0]=1000\n",
    "volumeofsalesList[1]=0.1\n",
    "volumeofsalesList[2]=6\n",
    "\n",
    "sales=[]\n",
    "for i in range(0,6):\n",
    "    sales.append(1000*(1.1**i))\n",
    "\n",
    "\n",
    "\n",
    "print(sales)\n",
    "\n",
    "\n"
   ]
  },
  {
   "cell_type": "code",
   "execution_count": 77,
   "metadata": {},
   "outputs": [
    {
     "name": "stdout",
     "output_type": "stream",
     "text": [
      "[300.00000000000006, 330.00000000000006, 363.0000000000001, 399.3000000000002, 439.2300000000002, 483.1530000000002]\n"
     ]
    }
   ],
   "source": [
    "'''\n",
    "2) Based on the previews list, create a list with costs knowing the profit margin:\n",
    "margin =70%\n",
    "'''\n",
    "costs=[]\n",
    "for i in sales:\n",
    "    costs.append(i*(1-0.70))\n",
    "    \n",
    "print(costs)\n"
   ]
  },
  {
   "cell_type": "code",
   "execution_count": 80,
   "metadata": {},
   "outputs": [
    {
     "name": "stdout",
     "output_type": "stream",
     "text": [
      "[700.0, 770.0, 847.0000000000001, 931.7000000000003, 1024.8700000000001, 1127.3570000000002]\n"
     ]
    }
   ],
   "source": [
    "'''\n",
    "3) Create a list with the profit based on the last 2 exercises (profit = sales - cost)\n",
    "'''\n",
    "profit=[]\n",
    "for i in range(0,6):\n",
    "            profit.append(sales[i]-costs[i])\n",
    "\n",
    "print(profit)"
   ]
  },
  {
   "cell_type": "code",
   "execution_count": null,
   "metadata": {},
   "outputs": [],
   "source": []
  },
  {
   "cell_type": "code",
   "execution_count": 82,
   "metadata": {},
   "outputs": [
    {
     "name": "stdout",
     "output_type": "stream",
     "text": [
      "[200.0, 270.0, 347.0000000000001, 431.7000000000003, 524.8700000000001, 627.3570000000002]\n"
     ]
    }
   ],
   "source": [
    "'''\n",
    "4) Calculete a newProfit suposing 500 of fixed costs\n",
    "'''\n",
    "newProfit=[]\n",
    "for i in profit:\n",
    "    newProfit.append(i-500)\n",
    "    \n",
    "print(newProfit)\n"
   ]
  },
  {
   "cell_type": "code",
   "execution_count": 85,
   "metadata": {},
   "outputs": [
    {
     "name": "stdout",
     "output_type": "stream",
     "text": [
      "[1244, 1918, 453, 566, 648, 1654]\n"
     ]
    }
   ],
   "source": [
    "'''\n",
    "5) Create a newSales list with random generated values between 200 and 2000. Corresponding to volume of sales\n",
    "during a certainn numberOfYears.\n",
    "some ints:\n",
    "Import module, writing import random\n",
    "use the method random.randint(a, b). This method is used to generate values between a and b ( Return a\n",
    "random integer N such that a <= N <= b.):\n",
    "'''\n",
    "import random\n",
    "x=200\n",
    "y=2000\n",
    "newsales=[]\n",
    "for i in range(0,6):\n",
    "    newsales.append(random.randint(x,y))\n",
    "print(newsales)\n",
    "\n"
   ]
  },
  {
   "cell_type": "code",
   "execution_count": 100,
   "metadata": {},
   "outputs": [
    {
     "name": "stdout",
     "output_type": "stream",
     "text": [
      "[-126.79999999999995, 75.40000000000009, -364.09999999999997, -330.2, -305.59999999999997, -3.7999999999999545]\n"
     ]
    }
   ],
   "source": [
    "'''\n",
    "6) Create a new list with profits (newProfit). With margin 70% with fixed costs stated previously.\n",
    "'''\n",
    "\n",
    "fixedcosts=[]\n",
    "for i in newsales:\n",
    "    fixedcosts.append(i*(1-0.70)-500)\n",
    "\n",
    "print(fixedcosts) "
   ]
  },
  {
   "cell_type": "code",
   "execution_count": 102,
   "metadata": {},
   "outputs": [
    {
     "name": "stdout",
     "output_type": "stream",
     "text": [
      "16.666666666666664\n"
     ]
    }
   ],
   "source": [
    "'''\n",
    "7) What is the percentage of years having profits in the total?\n",
    "'''\n",
    "profityears=[]\n",
    "for i in fixedcosts:\n",
    "    if i>0:\n",
    "        profityears.append(i)\n",
    "\n",
    "#print(profityears)\n",
    "\n",
    "percentageofprofityears=((len(profityears)/6)*100)\n",
    "print(percentageofprofityears)\n"
   ]
  },
  {
   "cell_type": "code",
   "execution_count": 104,
   "metadata": {},
   "outputs": [
    {
     "data": {
      "text/plain": [
       "Text(0.5, 0, 'years')"
      ]
     },
     "execution_count": 104,
     "metadata": {},
     "output_type": "execute_result"
    },
    {
     "data": {
      "image/png": "[encoded data removed]",
      "text/plain": [
       "<Figure size 432x288 with 1 Axes>"
      ]
     },
     "metadata": {
      "needs_background": "light"
     },
     "output_type": "display_data"
    }
   ],
   "source": [
    "'''\n",
    "8) Plot the sales and the newSales (generated randomly) throughout the years.\n",
    "'''\n",
    "import matplotlib.pyplot as plt\n",
    "plt.plot(sales)\n",
    "plt.plot(newsales)\n",
    "plt.ylabel('sales')\n",
    "plt.xlabel('years')"
   ]
  }
 ],
 "metadata": {
  "kernelspec": {
   "display_name": "Python 3",
   "language": "python",
   "name": "python3"
  },
  "language_info": {
   "codemirror_mode": {
    "name": "ipython",
    "version": 3
   },
   "file_extension": ".py",
   "mimetype": "text/x-python",
   "name": "python",
   "nbconvert_exporter": "python",
   "pygments_lexer": "ipython3",
   "version": "3.7.3"
  }
 },
 "nbformat": 4,
 "nbformat_minor": 2
}
