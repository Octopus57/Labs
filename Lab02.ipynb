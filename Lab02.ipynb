{
 "cells": [
  {
   "cell_type": "code",
   "execution_count": 35,
   "metadata": {},
   "outputs": [
    {
     "name": "stdout",
     "output_type": "stream",
     "text": [
      "['potatoes', 'carrots', 'cod', 'sprouts']\n"
     ]
    }
   ],
   "source": [
    "'''\n",
    " Construct a list (shoppingList) including 'potatoes', 'carrots', 'cod' and 'sprouts’\n",
    "'''\n",
    "\n",
    "Shoppinglist= ['potatoes', 'carrots', 'cod', 'sprouts']\n",
    "print(Shoppinglist)"
   ]
  },
  {
   "cell_type": "code",
   "execution_count": 36,
   "metadata": {},
   "outputs": [
    {
     "data": {
      "text/plain": [
       "'sprouts'"
      ]
     },
     "execution_count": 36,
     "metadata": {},
     "output_type": "execute_result"
    }
   ],
   "source": [
    "'''\n",
    "Get the second and the last element of the list\n",
    "'''\n",
    "Shoppinglist[1]\n",
    "Shoppinglist[3]"
   ]
  },
  {
   "cell_type": "code",
   "execution_count": 49,
   "metadata": {},
   "outputs": [
    {
     "name": "stdout",
     "output_type": "stream",
     "text": [
      "potatoes\n",
      "carrots\n",
      "cod\n",
      "sprouts\n"
     ]
    }
   ],
   "source": [
    "'''\n",
    "Iterate though the list\n",
    "'''\n",
    "Shoppinglist= ['potatoes', 'carrots', 'cod', 'sprouts']\n",
    "for purchase in Shoppinglist: \n",
    "    print (purchase)\n"
   ]
  },
  {
   "cell_type": "code",
   "execution_count": 38,
   "metadata": {},
   "outputs": [
    {
     "name": "stdout",
     "output_type": "stream",
     "text": [
      "[]\n"
     ]
    }
   ],
   "source": [
    "'''\n",
    "Create a new list (studentList)\n",
    "'''\n",
    "studentlist=list(())\n",
    "print(studentlist)"
   ]
  },
  {
   "cell_type": "code",
   "execution_count": 39,
   "metadata": {},
   "outputs": [
    {
     "name": "stdout",
     "output_type": "stream",
     "text": [
      "['potatoes', 'carrots', 'cod', 'sprouts', 'orange', 'lime']\n"
     ]
    }
   ],
   "source": [
    "'''\n",
    "Add the follwoing elements to the shoppingList: orange and lime\n",
    "'''\n",
    "Shoppinglist= ['potatoes', 'carrots', 'cod', 'sprouts']\n",
    "Shoppinglist.append('orange')\n",
    "Shoppinglist.append('lime')\n",
    "print(Shoppinglist)"
   ]
  },
  {
   "cell_type": "code",
   "execution_count": 40,
   "metadata": {},
   "outputs": [
    {
     "name": "stdout",
     "output_type": "stream",
     "text": [
      "['cod', 'sprouts', 'orange']\n"
     ]
    }
   ],
   "source": [
    "'''\n",
    " Remove the carrots, the first element and last element of the shoppingList list\n",
    "'''\n",
    "Shoppinglist.remove(\"carrots\")\n",
    "del Shoppinglist[0]\n",
    "del Shoppinglist[-1]\n",
    "print(Shoppinglist)"
   ]
  },
  {
   "cell_type": "code",
   "execution_count": 46,
   "metadata": {},
   "outputs": [
    {
     "name": "stdout",
     "output_type": "stream",
     "text": [
      "[]\n"
     ]
    },
    {
     "ename": "NameError",
     "evalue": "name 'studentlist' is not defined",
     "output_type": "error",
     "traceback": [
      "\u001b[1;31m---------------------------------------------------------------------------\u001b[0m",
      "\u001b[1;31mNameError\u001b[0m                                 Traceback (most recent call last)",
      "\u001b[1;32m<ipython-input-46-fe767bd2f9c1>\u001b[0m in \u001b[0;36m<module>\u001b[1;34m\u001b[0m\n\u001b[0;32m      5\u001b[0m \u001b[0mprint\u001b[0m\u001b[1;33m(\u001b[0m\u001b[0mstudentlist\u001b[0m\u001b[1;33m)\u001b[0m\u001b[1;33m\u001b[0m\u001b[1;33m\u001b[0m\u001b[0m\n\u001b[0;32m      6\u001b[0m \u001b[1;32mdel\u001b[0m \u001b[0mstudentlist\u001b[0m\u001b[1;33m\u001b[0m\u001b[1;33m\u001b[0m\u001b[0m\n\u001b[1;32m----> 7\u001b[1;33m \u001b[0mprint\u001b[0m\u001b[1;33m(\u001b[0m\u001b[0mstudentlist\u001b[0m\u001b[1;33m)\u001b[0m\u001b[1;33m\u001b[0m\u001b[1;33m\u001b[0m\u001b[0m\n\u001b[0m",
      "\u001b[1;31mNameError\u001b[0m: name 'studentlist' is not defined"
     ]
    }
   ],
   "source": [
    "'''\n",
    " Delete the Student list\n",
    "'''\n",
    "studentlist=list(())\n",
    "print(studentlist)\n",
    "del studentlist\n",
    "print(studentlist)"
   ]
  },
  {
   "cell_type": "code",
   "execution_count": 47,
   "metadata": {},
   "outputs": [
    {
     "name": "stdout",
     "output_type": "stream",
     "text": [
      "[2, 4, 6, 8, 10, 12, 14, 16, 18, 20, 22, 24, 26, 28]\n"
     ]
    }
   ],
   "source": [
    "'''\n",
    "Create a list with the double values of number between 1 and 15\n",
    "'''\n",
    "doublevalues=[x*2 for x in range(1, 15)]\n",
    "print(doublevalues)"
   ]
  },
  {
   "cell_type": "code",
   "execution_count": 48,
   "metadata": {},
   "outputs": [
    {
     "name": "stdout",
     "output_type": "stream",
     "text": [
      "[2, 4, 6]\n"
     ]
    }
   ],
   "source": [
    "'''\n",
    "Obtain the first 3 elements of the list\n",
    "'''\n",
    "doublevalues= [2, 4, 6, 8, 10, 12, 14, 16, 18, 20, 22, 24, 26, 28]\n",
    "firstThree = doublevalues [: 3] \n",
    "print (firstThree)"
   ]
  },
  {
   "cell_type": "code",
   "execution_count": 1,
   "metadata": {},
   "outputs": [
    {
     "name": "stdout",
     "output_type": "stream",
     "text": [
      "['potatoes', 'carrots', 'cod', 'sprouts']\n"
     ]
    }
   ],
   "source": [
    "'''\n",
    "What is the result of, Why?\n",
    "shopping = shoppingList\n",
    "shoppingListCopy = shoppingList[:]\n",
    "print(shopping)\n",
    "'''\n",
    "shoppinglist=['potatoes','carrots','cod','sprouts']\n",
    "shopping = shoppinglist\n",
    "shoppinglistCopy = shoppinglist[:]\n",
    "print(shopping)"
   ]
  },
  {
   "cell_type": "code",
   "execution_count": 15,
   "metadata": {},
   "outputs": [
    {
     "name": "stdout",
     "output_type": "stream",
     "text": [
      "['potatoes', 'carrots', 'cod', 'sprouts', 'orange', 'orange']\n"
     ]
    }
   ],
   "source": [
    "'''\n",
    "What is the result of, Why?\n",
    "shopping = shoppingList\n",
    "shoppingList.append(\"orange\")\n",
    "print(shopping)\n",
    "''' \n",
    "shopping=shoppinglist\n",
    "shoppinglist.append(\"orange\")\n",
    "print(shopping)\n",
    "\n",
    "'shopping' is a variable  that depends on shoppinglist so when you change shoppinglist, \n",
    "shopping changes automatically accordingly\n"
   ]
  },
  {
   "cell_type": "code",
   "execution_count": 16,
   "metadata": {},
   "outputs": [
    {
     "name": "stdout",
     "output_type": "stream",
     "text": [
      "[]\n"
     ]
    }
   ],
   "source": [
    "'''\n",
    "remove all the items from the shoppingList\n",
    "'''\n",
    "\n",
    "shoppinglist.clear()\n",
    "print(shoppinglist)"
   ]
  },
  {
   "cell_type": "code",
   "execution_count": 17,
   "metadata": {},
   "outputs": [
    {
     "name": "stdout",
     "output_type": "stream",
     "text": [
      "beans\n"
     ]
    },
    {
     "ename": "TypeError",
     "evalue": "'tuple' object does not support item assignment",
     "output_type": "error",
     "traceback": [
      "\u001b[1;31m---------------------------------------------------------------------------\u001b[0m",
      "\u001b[1;31mTypeError\u001b[0m                                 Traceback (most recent call last)",
      "\u001b[1;32m<ipython-input-17-49d76a1c2acf>\u001b[0m in \u001b[0;36m<module>\u001b[1;34m\u001b[0m\n\u001b[0;32m      8\u001b[0m \u001b[0mnewPurchases\u001b[0m\u001b[1;33m=\u001b[0m\u001b[1;33m(\u001b[0m\u001b[1;34m\"bananas\"\u001b[0m\u001b[1;33m,\u001b[0m\u001b[1;34m\"beans\"\u001b[0m\u001b[1;33m,\u001b[0m\u001b[1;34m\"rice\"\u001b[0m\u001b[1;33m)\u001b[0m\u001b[1;33m\u001b[0m\u001b[1;33m\u001b[0m\u001b[0m\n\u001b[0;32m      9\u001b[0m \u001b[0mprint\u001b[0m\u001b[1;33m(\u001b[0m\u001b[0mnewPurchases\u001b[0m\u001b[1;33m[\u001b[0m\u001b[1;36m1\u001b[0m\u001b[1;33m]\u001b[0m\u001b[1;33m)\u001b[0m\u001b[1;33m\u001b[0m\u001b[1;33m\u001b[0m\u001b[0m\n\u001b[1;32m---> 10\u001b[1;33m \u001b[0mnewPurchases\u001b[0m\u001b[1;33m[\u001b[0m\u001b[1;36m0\u001b[0m\u001b[1;33m]\u001b[0m\u001b[1;33m=\u001b[0m\u001b[1;34m\"apple\"\u001b[0m\u001b[1;33m\u001b[0m\u001b[1;33m\u001b[0m\u001b[0m\n\u001b[0m",
      "\u001b[1;31mTypeError\u001b[0m: 'tuple' object does not support item assignment"
     ]
    }
   ],
   "source": [
    "'''\n",
    "What is the result of, Why?\n",
    "newPurchases= (\"bananas\", \"beans\", \"rice\")\n",
    "print (newPurchases [1])\n",
    "newPurchases [0] = \"apple\"\n",
    "'''\n",
    "\n",
    "newPurchases=(\"bananas\",\"beans\",\"rice\")\n",
    "print(newPurchases[1])\n",
    "\n",
    "'''\n",
    "The above code is a tuple, a tuple is immutable and cannot be modified\n",
    "'''"
   ]
  },
  {
   "cell_type": "code",
   "execution_count": 18,
   "metadata": {},
   "outputs": [
    {
     "name": "stdout",
     "output_type": "stream",
     "text": [
      "The fruit1isorange\n",
      "The fruit2isapple\n",
      "The fruit3ispear\n",
      "The fruit4isgrapes\n",
      "The fruit5ispeach\n"
     ]
    }
   ],
   "source": [
    "'''\n",
    "Create a dictionary including the follwoing elements: orange, apple, pear, grape and peach. Key are 1 to 5.\n",
    "Iterate through key-value pair.\n",
    "'''\n",
    "\n",
    "fruit={1:'orange',2:'apple',3:'pear',4:'grapes',5:'peach'}\n",
    "for key,value in fruit.items():\n",
    "    print('The fruit'+str(key)+'is'+value)"
   ]
  },
  {
   "cell_type": "code",
   "execution_count": 19,
   "metadata": {},
   "outputs": [
    {
     "name": "stdout",
     "output_type": "stream",
     "text": [
      "[['rice', 'beans'], ['egg', 'plantain'], ['yam', 'stew'], ['salad', 'potato'], ['noodles', 'chickpeas'], ['oat', 'bread'], ['chicken', 'plantain']]\n"
     ]
    }
   ],
   "source": [
    "'''\n",
    "Create a weekList that is composed of several lists, each one corresponding to a day\n",
    "'''\n",
    "shoppinglistmonday=['rice', 'beans']\n",
    "shoppinglisttuesday=['egg', 'plantain']\n",
    "shoppinglistwednesday=['yam', 'stew']\n",
    "shoppinglistthursday=['salad', 'potato']\n",
    "shoppinglistfriday=['noodles', 'chickpeas']\n",
    "shoppinglistsaturday=['oat', 'bread']\n",
    "shoppinglistsunday=['chicken', 'plantain']\n",
    "\n",
    "weeklist=[]\n",
    "weeklist.append(shoppinglistmonday)\n",
    "weeklist.append(shoppinglisttuesday)\n",
    "weeklist.append(shoppinglistwednesday)\n",
    "weeklist.append(shoppinglistthursday)\n",
    "weeklist.append(shoppinglistfriday)\n",
    "weeklist.append(shoppinglistsaturday)\n",
    "weeklist.append(shoppinglistsunday)\n",
    "print(weeklist)"
   ]
  }
 ],
 "metadata": {
  "kernelspec": {
   "display_name": "Python 3",
   "language": "python",
   "name": "python3"
  },
  "language_info": {
   "codemirror_mode": {
    "name": "ipython",
    "version": 3
   },
   "file_extension": ".py",
   "mimetype": "text/x-python",
   "name": "python",
   "nbconvert_exporter": "python",
   "pygments_lexer": "ipython3",
   "version": "3.7.3"
  }
 },
 "nbformat": 4,
 "nbformat_minor": 2
}
