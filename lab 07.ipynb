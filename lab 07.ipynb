{
 "cells": [
  {
   "cell_type": "code",
   "execution_count": null,
   "metadata": {},
   "outputs": [],
   "source": [
    "Lab 7\n",
    "calculate NPV. The rate is a float and the cash flows and investment are in a list.\n",
    "create a function called NPV to calculate NPV\n",
    "create a function to calcule IRR. In order to calculate IRR you may aproximate the follwoing expression:\n",
    "rate= rate*(1-NPV(CFList, rate)/invest)\n",
    "create a function for payback period"
   ]
  },
  {
   "cell_type": "code",
   "execution_count": 24,
   "metadata": {},
   "outputs": [],
   "source": [
    "#Supose you have the follwoing cashflow\n",
    "\n",
    "CFList=[-1000, 200, 200, 300, 500]\n",
    "rate= 0.04\n"
   ]
  },
  {
   "cell_type": "code",
   "execution_count": 25,
   "metadata": {},
   "outputs": [
    {
     "name": "stdout",
     "output_type": "stream",
     "text": [
      "71.3199380273798\n"
     ]
    }
   ],
   "source": [
    "#calcule the NPV sugestion: iterate both by index and value using enume\n",
    "\n",
    "NPV=0\n",
    "for t, x in enumerate(CFList):\n",
    "    NPV=NPV+x/((1+rate)**t)\n",
    "    \n",
    "print(NPV)"
   ]
  },
  {
   "cell_type": "code",
   "execution_count": 26,
   "metadata": {},
   "outputs": [
    {
     "name": "stdout",
     "output_type": "stream",
     "text": [
      "71.3199380273798\n"
     ]
    }
   ],
   "source": [
    "#create a function called NPV that returns the NPV value\n",
    "\n",
    "def NPV(cashflows, discountrate):\n",
    "    NPV=0\n",
    "    for t, x in enumerate(CFList):\n",
    "        NPV=NPV+x/((1+rate)**t)\n",
    "    return(NPV)\n",
    "\n",
    "print(NPV(CFList,rate))   \n"
   ]
  },
  {
   "cell_type": "code",
   "execution_count": 39,
   "metadata": {},
   "outputs": [
    {
     "name": "stdout",
     "output_type": "stream",
     "text": [
      "916.219570774825\n"
     ]
    }
   ],
   "source": [
    "#IRR\n",
    "\n",
    "def irr(CFList):\n",
    "    rate=1\n",
    "    for i in range(1,100):\n",
    "        rate= rate*(1-NPV(CFList, rate)/CFList[0])\n",
    "    return rate\n",
    "\n",
    "print(irr(CFList))"
   ]
  },
  {
   "cell_type": "code",
   "execution_count": 28,
   "metadata": {},
   "outputs": [
    {
     "name": "stdout",
     "output_type": "stream",
     "text": [
      "[-1000, -800, -600, -300, 200]\n",
      "4\n",
      "3.6\n"
     ]
    }
   ],
   "source": [
    "#pay back period\n",
    "\n",
    "recoveredcash=[]\n",
    "recoveredcash.append(CFList[0])\n",
    "for i in range(1,len(CFList)):\n",
    "    recoveredcash.append(recoveredcash[i-1]+CFList[i])\n",
    "    \n",
    "print(recoveredcash)\n",
    "\n",
    "payback=[i for i, x in enumerate(recoveredcash) if x>0]\n",
    "print(payback[0])\n",
    "\n",
    "paybackperiod=payback[0]-1+(recoveredcash[-2]*(-1))/(recoveredcash[-1]-recoveredcash[-2])\n",
    "print(paybackperiod)"
   ]
  }
 ],
 "metadata": {
  "kernelspec": {
   "display_name": "Python 3",
   "language": "python",
   "name": "python3"
  },
  "language_info": {
   "codemirror_mode": {
    "name": "ipython",
    "version": 3
   },
   "file_extension": ".py",
   "mimetype": "text/x-python",
   "name": "python",
   "nbconvert_exporter": "python",
   "pygments_lexer": "ipython3",
   "version": "3.7.3"
  }
 },
 "nbformat": 4,
 "nbformat_minor": 2
}
